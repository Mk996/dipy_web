{
  "cells": [
    {
      "cell_type": "code",
      "execution_count": null,
      "metadata": {
        "collapsed": false
      },
      "outputs": [],
      "source": [
        "%matplotlib inline"
      ]
    },
    {
      "cell_type": "markdown",
      "metadata": {},
      "source": [
        "\n# Direct Bundle Registration\n\nThis example explains how you can register two bundles from two different\nsubjects directly in the space of streamlines [Garyfallidis15]_,\n[Garyfallidis14]_.\n\nTo show the concept we will use two pre-saved cingulum bundles. The algorithm\nused here is called Streamline-based Linear Registration (SLR)\n[Garyfallidis15]_.\n"
      ]
    },
    {
      "cell_type": "code",
      "execution_count": null,
      "metadata": {
        "collapsed": false
      },
      "outputs": [],
      "source": [
        "from dipy.viz import window, actor\nfrom time import sleep\nfrom dipy.data import two_cingulum_bundles\n\ncb_subj1, cb_subj2 = two_cingulum_bundles()\n\nfrom dipy.align.streamlinear import StreamlineLinearRegistration\nfrom dipy.tracking.streamline import set_number_of_points"
      ]
    },
    {
      "cell_type": "markdown",
      "metadata": {},
      "source": [
        "An important step before running the registration is to resample the\nstreamlines so that they both have the same number of points per streamline.\nHere we will use 20 points. This step is not optional. Inputting streamlines\nwith a different number of points will break the theoretical advantages of\nusing the SLR as explained in [Garyfallidis15]_.\n\n"
      ]
    },
    {
      "cell_type": "code",
      "execution_count": null,
      "metadata": {
        "collapsed": false
      },
      "outputs": [],
      "source": [
        "cb_subj1 = set_number_of_points(cb_subj1, 20)\ncb_subj2 = set_number_of_points(cb_subj2, 20)"
      ]
    },
    {
      "cell_type": "markdown",
      "metadata": {},
      "source": [
        "Let's say now that we want to move the ``cb_subj2`` (moving) so that it can\nbe aligned with ``cb_subj1`` (static). Here is how this is done.\n\n"
      ]
    },
    {
      "cell_type": "code",
      "execution_count": null,
      "metadata": {
        "collapsed": false
      },
      "outputs": [],
      "source": [
        "srr = StreamlineLinearRegistration()\n\nsrm = srr.optimize(static=cb_subj1, moving=cb_subj2)"
      ]
    },
    {
      "cell_type": "markdown",
      "metadata": {},
      "source": [
        "After the optimization is finished we can apply the transformation to\n``cb_subj2``.\n\n"
      ]
    },
    {
      "cell_type": "code",
      "execution_count": null,
      "metadata": {
        "collapsed": false
      },
      "outputs": [],
      "source": [
        "cb_subj2_aligned = srm.transform(cb_subj2)\n\n\ndef show_both_bundles(bundles, colors=None, show=True, fname=None):\n\n    scene = window.Scene()\n    scene.SetBackground(1., 1, 1)\n    for (i, bundle) in enumerate(bundles):\n        color = colors[i]\n        lines_actor = actor.streamtube(bundle, color, linewidth=0.3)\n        lines_actor.RotateX(-90)\n        lines_actor.RotateZ(90)\n        scene.add(lines_actor)\n    if show:\n        window.show(scene)\n    if fname is not None:\n        sleep(1)\n        window.record(scene, n_frames=1, out_path=fname, size=(900, 900))\n\n\nshow_both_bundles([cb_subj1, cb_subj2],\n                  colors=[window.colors.orange, window.colors.red],\n                  show=False,\n                  fname='before_registration.png')"
      ]
    },
    {
      "cell_type": "markdown",
      "metadata": {},
      "source": [
        ".. figure:: before_registration.png\n   :align: center\n\n   Before bundle registration.\n\n"
      ]
    },
    {
      "cell_type": "code",
      "execution_count": null,
      "metadata": {
        "collapsed": false
      },
      "outputs": [],
      "source": [
        "show_both_bundles([cb_subj1, cb_subj2_aligned],\n                  colors=[window.colors.orange, window.colors.red],\n                  show=False,\n                  fname='after_registration.png')"
      ]
    },
    {
      "cell_type": "markdown",
      "metadata": {},
      "source": [
        ".. figure:: after_registration.png\n   :align: center\n\n   After bundle registration.\n\nAs you can see the two cingulum bundles are well aligned although they\ncontain many streamlines of different lengths and shapes.\n\n.. [Garyfallidis15] Garyfallidis et al., \"Robust and efficient linear\n                    registration of white-matter fascicles in the space\n                    of streamlines\", Neuroimage, 117:124-140, 2015.\n.. [Garyfallidis14] Garyfallidis et al., \"Direct native-space fiber bundle\n                    alignment for group comparisons\", ISMRM, 2014.\n\n"
      ]
    }
  ],
  "metadata": {
    "kernelspec": {
      "display_name": "Python 3",
      "language": "python",
      "name": "python3"
    },
    "language_info": {
      "codemirror_mode": {
        "name": "ipython",
        "version": 3
      },
      "file_extension": ".py",
      "mimetype": "text/x-python",
      "name": "python",
      "nbconvert_exporter": "python",
      "pygments_lexer": "ipython3",
      "version": "3.7.4"
    }
  },
  "nbformat": 4,
  "nbformat_minor": 0
}