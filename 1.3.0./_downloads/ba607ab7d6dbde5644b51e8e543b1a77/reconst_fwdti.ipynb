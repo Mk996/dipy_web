{
  "cells": [
    {
      "cell_type": "code",
      "execution_count": null,
      "metadata": {
        "collapsed": false
      },
      "outputs": [],
      "source": [
        "%matplotlib inline"
      ]
    },
    {
      "cell_type": "markdown",
      "metadata": {},
      "source": [
        "\n# Using the free water elimination model to remove DTI free water contamination\n\nAs shown previously (see `example_reconst_dti`), the diffusion tensor\nmodel is a simple way to characterize diffusion anisotropy. However, in regions\nnear the cerebral ventricle and parenchyma can be underestimated by partial\nvolume effects of the cerebral spinal fluid (CSF). This free water\ncontamination can particularly corrupt Diffusion Tensor Imaging analysis of\nmicrostructural changes when different groups of subjects show different brain\nmorphology (e.g. brain ventricle enlargement associated with brain tissue\natrophy that occurs in several brain pathologies and ageing).\n\nA way to remove this free water influences is to expand the DTI model to take\ninto account an extra compartment representing the contributions of free water\ndiffusion [Pasternak2009]_. The expression of the expanded DTI model is shown\nbelow:\n\n\\begin{align}S(\\mathbf{g}, b) = S_0(1-f)e^{-b\\mathbf{g}^T \\mathbf{D}\n    \\mathbf{g}}+S_0fe^{-b D_{iso}}\\end{align}\n\nwhere $\\mathbf{g}$ and $b$ are diffusion gradient direction and weighted\n(more information see `example_reconst_dti`), $S(\\mathbf{g}, b)$ is the\ndiffusion-weighted signal measured, $S_0$ is the signal in a measurement with\nno diffusion weighting, $\\mathbf{D}$ is the diffusion tensor, $f$ the volume\nfraction of the free water component, and $D_{iso}$ is the isotropic value of\nthe free water diffusion (normally set to $3.0  imes 10^{-3} mm^{2}s^{-1}$).\n\nIn this example, we show how to process a diffusion weighting dataset using\nan adapted version of the free water elimination proposed by [Hoy2014]_.\n\nThe full details of Dipy's free water DTI implementation was published in\n[Henriques2017]_. Please cite this work if you use this algorithm.\n\nLet's start by importing the relevant modules:\n"
      ]
    },
    {
      "cell_type": "code",
      "execution_count": null,
      "metadata": {
        "collapsed": false
      },
      "outputs": [],
      "source": [
        "import numpy as np\nimport dipy.reconst.fwdti as fwdti\nimport dipy.reconst.dti as dti\nimport matplotlib.pyplot as plt\nfrom dipy.data import fetch_cenir_multib\nfrom dipy.data import read_cenir_multib\nfrom dipy.segment.mask import median_otsu"
      ]
    },
    {
      "cell_type": "markdown",
      "metadata": {},
      "source": [
        "Without spatial constrains the free water elimination model cannot be solved\nin data acquired from one non-zero b-value [Hoy2014]_. Therefore, here we\ndownload a dataset that was required from multiple b-values.\n\n"
      ]
    },
    {
      "cell_type": "code",
      "execution_count": null,
      "metadata": {
        "collapsed": false
      },
      "outputs": [],
      "source": [
        "fetch_cenir_multib(with_raw=False)"
      ]
    },
    {
      "cell_type": "markdown",
      "metadata": {},
      "source": [
        "From the downloaded data, we read only the data acquired with b-values up to\n2000 $s/mm^2$ to decrease the influence of non-Gaussian diffusion\neffects of the tissue which are not taken into account by the free water\nelimination model [Hoy2014]_.\n\n"
      ]
    },
    {
      "cell_type": "code",
      "execution_count": null,
      "metadata": {
        "collapsed": false
      },
      "outputs": [],
      "source": [
        "bvals = [200, 400, 1000, 2000]\n\nimg, gtab = read_cenir_multib(bvals)\n\ndata = np.asarray(img.dataobj)\n\naffine = img.affine"
      ]
    },
    {
      "cell_type": "markdown",
      "metadata": {},
      "source": [
        "The free water DTI model can take some minutes to process the full data set.\nThus, we remove the background of the image to avoid unnecessary\ncalculations.\n\n"
      ]
    },
    {
      "cell_type": "code",
      "execution_count": null,
      "metadata": {
        "collapsed": false
      },
      "outputs": [],
      "source": [
        "maskdata, mask = median_otsu(data, vol_idx=[0, 1], median_radius=4, numpass=2,\n                             autocrop=False, dilate=1)"
      ]
    },
    {
      "cell_type": "markdown",
      "metadata": {},
      "source": [
        "Moreover, for illustration purposes we process only an axial slice of the\ndata.\n\n"
      ]
    },
    {
      "cell_type": "code",
      "execution_count": null,
      "metadata": {
        "collapsed": false
      },
      "outputs": [],
      "source": [
        "axial_slice = 40\n\nmask_roi = np.zeros(data.shape[:-1], dtype=bool)\nmask_roi[:, :, axial_slice] = mask[:, :, axial_slice]"
      ]
    },
    {
      "cell_type": "markdown",
      "metadata": {},
      "source": [
        "The free water elimination model fit can then be initialized by instantiating\na FreeWaterTensorModel class object:\n\n"
      ]
    },
    {
      "cell_type": "code",
      "execution_count": null,
      "metadata": {
        "collapsed": false
      },
      "outputs": [],
      "source": [
        "fwdtimodel = fwdti.FreeWaterTensorModel(gtab)"
      ]
    },
    {
      "cell_type": "markdown",
      "metadata": {},
      "source": [
        "The data can then be fitted using the ``fit`` function of the defined model\nobject:\n\n"
      ]
    },
    {
      "cell_type": "code",
      "execution_count": null,
      "metadata": {
        "collapsed": false
      },
      "outputs": [],
      "source": [
        "fwdtifit = fwdtimodel.fit(data, mask=mask_roi)"
      ]
    },
    {
      "cell_type": "markdown",
      "metadata": {},
      "source": [
        "This 2-steps procedure will create a FreeWaterTensorFit object which contains\nall the diffusion tensor statistics free for free water contaminations. Below\nwe extract the fractional anisotropy (FA) and the mean diffusivity (MD) of\nthe free water diffusion tensor.\n\n"
      ]
    },
    {
      "cell_type": "code",
      "execution_count": null,
      "metadata": {
        "collapsed": false
      },
      "outputs": [],
      "source": [
        "FA = fwdtifit.fa\nMD = fwdtifit.md"
      ]
    },
    {
      "cell_type": "markdown",
      "metadata": {},
      "source": [
        "For comparison we also compute the same standard measures processed by the\nstandard DTI model\n\n"
      ]
    },
    {
      "cell_type": "code",
      "execution_count": null,
      "metadata": {
        "collapsed": false
      },
      "outputs": [],
      "source": [
        "dtimodel = dti.TensorModel(gtab)\n\ndtifit = dtimodel.fit(data, mask=mask_roi)\n\ndti_FA = dtifit.fa\ndti_MD = dtifit.md"
      ]
    },
    {
      "cell_type": "markdown",
      "metadata": {},
      "source": [
        "Below the FA values for both free water elimination DTI model and standard\nDTI model are plotted in panels A and B, while the repective MD values are\nploted in panels D and E. For a better visualization of the effect of the\nfree water correction, the differences between these two metrics are shown in\npanels C and E. In addition to the standard diffusion statistics, the\nestimated volume fraction of the free water contamination is shown on\npanel G.\n\n"
      ]
    },
    {
      "cell_type": "code",
      "execution_count": null,
      "metadata": {
        "collapsed": false
      },
      "outputs": [],
      "source": [
        "fig1, ax = plt.subplots(2, 4, figsize=(12, 6),\n                        subplot_kw={'xticks': [], 'yticks': []})\n\nfig1.subplots_adjust(hspace=0.3, wspace=0.05)\nax.flat[0].imshow(FA[:, :, axial_slice].T, origin='lower',\n                  cmap='gray', vmin=0, vmax=1)\nax.flat[0].set_title('A) fwDTI FA')\nax.flat[1].imshow(dti_FA[:, :, axial_slice].T, origin='lower',\n                  cmap='gray', vmin=0, vmax=1)\nax.flat[1].set_title('B) standard DTI FA')\n\nFAdiff = abs(FA[:, :, axial_slice] - dti_FA[:, :, axial_slice])\nax.flat[2].imshow(FAdiff.T, cmap='gray', origin='lower', vmin=0, vmax=1)\nax.flat[2].set_title('C) FA difference')\n\nax.flat[3].axis('off')\n\nax.flat[4].imshow(MD[:, :, axial_slice].T, origin='lower',\n                  cmap='gray', vmin=0, vmax=2.5e-3)\nax.flat[4].set_title('D) fwDTI MD')\nax.flat[5].imshow(dti_MD[:, :, axial_slice].T, origin='lower',\n                  cmap='gray', vmin=0, vmax=2.5e-3)\nax.flat[5].set_title('E) standard DTI MD')\n\nMDdiff = abs(MD[:, :, axial_slice] - dti_MD[:, :, axial_slice])\nax.flat[6].imshow(MDdiff.T, origin='lower', cmap='gray', vmin=0, vmax=2.5e-3)\nax.flat[6].set_title('F) MD difference')\n\nF = fwdtifit.f\n\nax.flat[7].imshow(F[:, :, axial_slice].T, origin='lower',\n                  cmap='gray', vmin=0, vmax=1)\nax.flat[7].set_title('G) free water volume')\n\nplt.show()\nfig1.savefig('In_vivo_free_water_DTI_and_standard_DTI_measures.png')"
      ]
    },
    {
      "cell_type": "markdown",
      "metadata": {},
      "source": [
        ".. figure:: In_vivo_free_water_DTI_and_standard_DTI_measures.png\n   :align: center\n\n   In vivo diffusion measures obtain from the free water DTI and standard\n   DTI. The values of Fractional Anisotropy for the free water DTI model and\n   standard DTI model and their difference are shown in the upper panels\n   (A-C), while respective MD values are shown in the lower panels (D-F). In\n   addition the free water volume fraction estimated from the fwDTI model is\n   shown in panel G.\n\nFrom the figure, one can observe that the free water elimination model\nproduces in general higher values of FA and lower values of MD than the\nstandard DTI model. These differences in FA and MD estimation are expected\ndue to the suppression of the free water isotropic diffusion components.\nUnexpected high amplitudes of FA are however observed in the periventricular\ngray matter. This is a known artefact of regions associated to voxels with\nhigh water volume fraction (i.e. voxels containing basically CSF). We are\nable to remove this problematic voxels by excluding all FA values associated\nwith measured volume fractions above a reasonable threshold of 0.7:\n\n"
      ]
    },
    {
      "cell_type": "code",
      "execution_count": null,
      "metadata": {
        "collapsed": false
      },
      "outputs": [],
      "source": [
        "FA[F > 0.7] = 0\ndti_FA[F > 0.7] = 0"
      ]
    },
    {
      "cell_type": "markdown",
      "metadata": {},
      "source": [
        "Above we reproduce the plots of the in vivo FA from the two DTI fits and\nwhere we can see that the inflated FA values were practically removed:\n\n"
      ]
    },
    {
      "cell_type": "code",
      "execution_count": null,
      "metadata": {
        "collapsed": false
      },
      "outputs": [],
      "source": [
        "fig1, ax = plt.subplots(1, 3, figsize=(9, 3),\n                        subplot_kw={'xticks': [], 'yticks': []})\n\nfig1.subplots_adjust(hspace=0.3, wspace=0.05)\nax.flat[0].imshow(FA[:, :, axial_slice].T, origin='lower',\n                  cmap='gray', vmin=0, vmax=1)\nax.flat[0].set_title('A) fwDTI FA')\nax.flat[1].imshow(dti_FA[:, :, axial_slice].T, origin='lower',\n                  cmap='gray', vmin=0, vmax=1)\nax.flat[1].set_title('B) standard DTI FA')\n\nFAdiff = abs(FA[:, :, axial_slice] - dti_FA[:, :, axial_slice])\nax.flat[2].imshow(FAdiff.T, cmap='gray', origin='lower', vmin=0, vmax=1)\nax.flat[2].set_title('C) FA difference')\n\nplt.show()\nfig1.savefig('In_vivo_free_water_DTI_and_standard_DTI_corrected.png')"
      ]
    },
    {
      "cell_type": "markdown",
      "metadata": {},
      "source": [
        ".. figure:: In_vivo_free_water_DTI_and_standard_DTI_corrected.png\n   :align: center\n\n   In vivo FA measures obtain from the free water DTI (A) and standard\n   DTI (B) and their difference (C). Problematic inflated FA values of the\n   images were removed by dismissing voxels above a volume fraction threshold\n   of 0.7.\n\n## References\n.. [Pasternak2009] Pasternak, O., Sochen, N., Gur, Y., Intrator, N.,\n   Assaf, Y., 2009. Free water elimination and mapping from diffusion MRI.\n   Magn. Reson. Med. 62(3): 717-30. doi: 10.1002/mrm.22055.\n.. [Hoy2014] Hoy, A.R., Koay, C.G., Kecskemeti, S.R., Alexander, A.L., 2014.\n   Optimization of a free water elimination two-compartmental model for\n   diffusion tensor imaging. NeuroImage 103, 323-333. doi:\n   10.1016/j.neuroimage.2014.09.053\n.. [Henriques2017] Henriques, R.N., Rokem, A., Garyfallidis, E., St-Jean, S.,\n   Peterson E.T., Correia, M.M., 2017. [Re] Optimization of a free water\n   elimination two-compartment model for diffusion tensor imaging.\n   ReScience volume 3, issue 1, article number 2\n\n"
      ]
    }
  ],
  "metadata": {
    "kernelspec": {
      "display_name": "Python 3",
      "language": "python",
      "name": "python3"
    },
    "language_info": {
      "codemirror_mode": {
        "name": "ipython",
        "version": 3
      },
      "file_extension": ".py",
      "mimetype": "text/x-python",
      "name": "python",
      "nbconvert_exporter": "python",
      "pygments_lexer": "ipython3",
      "version": "3.7.4"
    }
  },
  "nbformat": 4,
  "nbformat_minor": 0
}