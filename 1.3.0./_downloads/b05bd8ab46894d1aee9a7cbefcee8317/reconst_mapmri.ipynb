{
  "cells": [
    {
      "cell_type": "code",
      "execution_count": null,
      "metadata": {
        "collapsed": false
      },
      "outputs": [],
      "source": [
        "%matplotlib inline"
      ]
    },
    {
      "cell_type": "markdown",
      "metadata": {},
      "source": [
        "\n# Continuous and analytical diffusion signal modelling with MAPMRI\n\nWe show how to model the diffusion signal as a linear combination\nof continuous functions from the MAPMRI basis [Ozarslan2013]_.\nThis continuous representation allows for the computation of many\nproperties of both the signal and diffusion propagator.\n\nWe show how to estimate the analytical Orientation Distribution\nFunction (ODF) and a variety of scalar indices. These include rotationally\ninvariant quantities such as the Mean Squared Displacement (MSD), Q-space\nInverse Variance (QIV), Return-To-Origin Probability (RTOP) and\nNon-Gaussianity (NG). Interestingly, the MAP-MRI basis also allows for\nthe computation of directional indices, such as the Return To the Axis\nProbability (RTAP), the Return To the Plane Probability (RTPP), and\nthe parallel and perpendicular Non-Gaussianity.\n\nThe estimation of these properties from noisy DWIs requires that the\nfitting of the MAPMRI basis is regularized. We will show that this can\nbe done using both constraining the diffusion propagator to positive\nvalues [Ozarslan2013]_ and analytic Laplacian Regularization (MAPL)\n[Fick2016a]_.\n\nFirst import the necessary modules:\n"
      ]
    },
    {
      "cell_type": "code",
      "execution_count": null,
      "metadata": {
        "collapsed": false
      },
      "outputs": [],
      "source": [
        "from dipy.reconst import mapmri\nfrom dipy.viz import window, actor\nfrom dipy.data import get_fnames, get_sphere\nfrom dipy.core.gradients import gradient_table\nfrom dipy.io.image import load_nifti\nfrom dipy.io.gradients import read_bvals_bvecs\nimport matplotlib.pyplot as plt\nimport numpy as np\nfrom mpl_toolkits.axes_grid1 import make_axes_locatable"
      ]
    },
    {
      "cell_type": "markdown",
      "metadata": {},
      "source": [
        "Download and read the data for this tutorial.\n\nMAPMRI requires multi-shell data, to properly fit the radial part of the\nbasis. to ``False`` to only download eddy-current/motion corrected data.\nThe total size of the downloaded data is 187.66 MBytes, however you only need\nto fetch it once.\n\n"
      ]
    },
    {
      "cell_type": "code",
      "execution_count": null,
      "metadata": {
        "collapsed": false
      },
      "outputs": [],
      "source": [
        "fraw, fbval, fbvec, t1_fname = get_fnames('cfin_multib')"
      ]
    },
    {
      "cell_type": "markdown",
      "metadata": {},
      "source": [
        "``data`` contains the voxel data and ``gtab`` contains a ``GradientTable``\nobject (gradient information e.g. b-values). For example, to show the\nb-values it is possible to write::\n\n   print(gtab.bvals)\n\nFor the values of the q-space indices to make sense it is necessary to\nexplicitly state the ``big_delta`` and ``small_delta`` parameters in the\ngradient table.\n\n"
      ]
    },
    {
      "cell_type": "code",
      "execution_count": null,
      "metadata": {
        "collapsed": false
      },
      "outputs": [],
      "source": [
        "data, affine = load_nifti(fraw)\nbvals, bvecs = read_bvals_bvecs(fbval, fbvec)\ngtab = gradient_table(bvals, bvecs)\n\nbig_delta = 0.0365  # seconds\nsmall_delta = 0.0157  # seconds\ngtab = gradient_table(bvals=gtab.bvals, bvecs=gtab.bvecs,\n                      big_delta=big_delta,\n                      small_delta=small_delta)\n\ndata_small = data[40:65, 50:51]\n\nprint('data.shape (%d, %d, %d, %d)' % data.shape)"
      ]
    },
    {
      "cell_type": "markdown",
      "metadata": {},
      "source": [
        "The MAPMRI Model can now be instantiated. The ``radial_order`` determines the\nexpansion order of the basis, i.e., how many basis functions are used to\napproximate the signal.\n\nFirst, we must decide to use the anisotropic or isotropic MAPMRI basis. As\nwas shown in [Fick2016a]_, the isotropic basis is best used for tractography\npurposes, as the anisotropic basis has a bias towards smaller crossing angles\nin the ODF. For signal fitting and estimation of scalar quantities the\nanisotropic basis is suggested. The choice can be made by setting\n``anisotropic_scaling=True`` or ``anisotropic_scaling=False``.\n\nFirst, we must select the method of regularization and/or constraining the\nbasis fitting.\n\n- ``laplacian_regularization=True`` makes it use Laplacian regularization\n  [Fick2016a]_. This method essentially reduces spurious oscillations in the\n  reconstruction by minimizing the Laplacian of the fitted signal.\n  Several options can be given to select the regularization weight:\n\n    - ``regularization_weighting=GCV`` uses generalized cross-validation\n      [Craven1978]_ to find an optimal weight.\n    - ``regularization_weighting=0.2`` for example would omit the GCV and\n      just set it to 0.2 (found to be reasonable in HCP data [Fick2016a]_).\n    - ``regularization_weighting=np.array(weights)`` would make the GCV use\n      a custom range to find an optimal weight.\n\n- ``positivity_constraint=True`` makes it use the positivity constraint on\n  the diffusion propagator [Ozarslan2013]_. This method constrains the final\n  solution of the diffusion propagator to be positive at a set of discrete\n  points, since negative values should not exist.\n\n    - The ``pos_grid`` and ``pos_radius`` affect the location and number of\n      constraint points in the diffusion propagator.\n\nBoth methods do a good job of producing viable solutions to the signal\nfitting in practice. The difference is that the Laplacian regularization\nimposes smoothness over the entire signal, including the extrapolation beyond\nthe measured signal. In practice this results in, but does not guarantee\npositive solutions of the diffusion propagator. The positivity constraint\nguarantees a positive solution in a set of discrete points, which in general\nresults in smooth solutions, but does not guarantee it.\n\nA suggested strategy is to use a low Laplacian weight together with the\npositivity constraint. In this way both desired properties are guaranteed in\nthe final solution.\n\nWe use package CVXPY (http://www.cvxpy.org/) to solve convex optimization\nproblems when \"positivity_constraint=True\", so we need to first install\nCVXPY.\n\nFor now we will generate the anisotropic models for all combinations.\n\n"
      ]
    },
    {
      "cell_type": "code",
      "execution_count": null,
      "metadata": {
        "collapsed": false
      },
      "outputs": [],
      "source": [
        "radial_order = 6\nmap_model_laplacian_aniso = mapmri.MapmriModel(gtab, radial_order=radial_order,\n                                               laplacian_regularization=True,\n                                               laplacian_weighting=.2)\n\nmap_model_positivity_aniso = mapmri.MapmriModel(gtab,\n                                                radial_order=radial_order,\n                                                laplacian_regularization=False,\n                                                positivity_constraint=True)\n\nmap_model_both_aniso = mapmri.MapmriModel(gtab, radial_order=radial_order,\n                                          laplacian_regularization=True,\n                                          laplacian_weighting=.05,\n                                          positivity_constraint=True)"
      ]
    },
    {
      "cell_type": "markdown",
      "metadata": {},
      "source": [
        "Note that when we use only Laplacian regularization, the ``GCV`` option may\nselect very low regularization weights in very anisotropic white matter such\nas the corpus callosum, resulting in corrupted scalar indices. In this\nexample we therefore choose a preset value of 0.2, which has shown to be\nquite robust and also faster in practice [Fick2016a]_.\n\nWe can then fit the MAPMRI model to the data:\n\n"
      ]
    },
    {
      "cell_type": "code",
      "execution_count": null,
      "metadata": {
        "collapsed": false
      },
      "outputs": [],
      "source": [
        "mapfit_laplacian_aniso = map_model_laplacian_aniso.fit(data_small)\nmapfit_positivity_aniso = map_model_positivity_aniso.fit(data_small)\nmapfit_both_aniso = map_model_both_aniso.fit(data_small)"
      ]
    },
    {
      "cell_type": "markdown",
      "metadata": {},
      "source": [
        "From the fitted models we will first illustrate the estimation of q-space\nindices. For completeness, we will compare the estimation using only\nLaplacian regularization, positivity constraint or both. We first show the\nRTOP [Ozarslan2013]_.\n\n"
      ]
    },
    {
      "cell_type": "code",
      "execution_count": null,
      "metadata": {
        "collapsed": false
      },
      "outputs": [],
      "source": [
        "# generating RTOP plots\nfig = plt.figure(figsize=(10, 5))\nax1 = fig.add_subplot(1, 3, 1, title=r'RTOP - Laplacian')\nax1.set_axis_off()\nrtop_laplacian = np.array(mapfit_laplacian_aniso.rtop()[:, 0, :].T,\n                          dtype=float)\nind = ax1.imshow(rtop_laplacian, interpolation='nearest',\n                 origin='lower', cmap=plt.cm.gray)\n\nax2 = fig.add_subplot(1, 3, 2, title=r'RTOP - Positivity')\nax2.set_axis_off()\nrtop_positivity = np.array(mapfit_positivity_aniso.rtop()[:, 0, :].T,\n                           dtype=float)\nind = ax2.imshow(rtop_positivity, interpolation='nearest',\n                 origin='lower', cmap=plt.cm.gray)\n\nax3 = fig.add_subplot(1, 3, 3, title=r'RTOP - Both')\nax3.set_axis_off()\nrtop_both = np.array(mapfit_both_aniso.rtop()[:, 0, :].T, dtype=float)\nind = ax3.imshow(rtop_both, interpolation='nearest', origin='lower',\n                 cmap=plt.cm.gray)\ndivider = make_axes_locatable(ax3)\ncax = divider.append_axes(\"right\", size=\"5%\", pad=0.05)\nplt.colorbar(ind, cax=cax)\n\nplt.savefig('MAPMRI_maps_regularization.png')"
      ]
    },
    {
      "cell_type": "markdown",
      "metadata": {},
      "source": [
        ".. figure:: MAPMRI_maps_regularization.png\n   :align: center\n\nIt can be seen that all maps appear quite smooth and similar. Though, it is\npossible to see some subtle differences near the corpus callosum. The\nsimilarity and differences in reconstruction can be further illustrated by\nvisualizing the analytic norm of the Laplacian of the fitted signal.\n\n"
      ]
    },
    {
      "cell_type": "code",
      "execution_count": null,
      "metadata": {
        "collapsed": false
      },
      "outputs": [],
      "source": [
        "fig = plt.figure(figsize=(10, 5))\nax1 = fig.add_subplot(1, 3, 1, title=r'Laplacian norm - Laplacian')\nax1.set_axis_off()\nlaplacian_norm_laplacian = np.array(\n   mapfit_laplacian_aniso.norm_of_laplacian_signal()[:, 0, :].T,\n   dtype=float)\nind = ax1.imshow(laplacian_norm_laplacian, interpolation='nearest',\n                 origin='lower', cmap=plt.cm.gray, vmin=0, vmax=3)\n\nax2 = fig.add_subplot(1, 3, 2, title=r'Laplacian norm - Positivity')\nax2.set_axis_off()\nlaplacian_norm_positivity = np.array(\n   mapfit_positivity_aniso.norm_of_laplacian_signal()[:, 0, :].T,\n   dtype=float)\nind = ax2.imshow(laplacian_norm_positivity, interpolation='nearest',\n                 origin='lower', cmap=plt.cm.gray, vmin=0, vmax=3)\n\nax3 = fig.add_subplot(1, 3, 3, title=r'Laplacian norm - Both')\nax3.set_axis_off()\nlaplacian_norm_both = np.array(mapfit_both_aniso.norm_of_laplacian_signal()[:, 0, :].T,\n                dtype=float)\nind = ax3.imshow(laplacian_norm_both, interpolation='nearest', origin='lower',\n                 cmap=plt.cm.gray, vmin=0, vmax=3)\ndivider = make_axes_locatable(ax3)\ncax = divider.append_axes(\"right\", size=\"5%\", pad=0.05)\nplt.colorbar(ind, cax=cax)\nplt.savefig('MAPMRI_norm_laplacian.png')"
      ]
    },
    {
      "cell_type": "markdown",
      "metadata": {},
      "source": [
        ".. figure:: MAPMRI_norm_laplacian.png\n   :align: center\n\n"
      ]
    },
    {
      "cell_type": "code",
      "execution_count": null,
      "metadata": {
        "collapsed": false
      },
      "outputs": [],
      "source": [
        "# A high Laplacian norm indicates that the gradient in the three-dimensional\n# signal reconstruction changes a lot - something that may indicate spurious\n# oscillations. In the Laplacian reconstruction (left) we see that there are\n# some isolated voxels that have a higher norm than the rest. In the\n# positivity constraint reconstruction the norm is already smoother. When both\n# methods are used together the overall norm gets smoother still, since both\n# smoothness of the signal and positivity of the propagator are imposed.\n\n# From now on we just use the combined approach, show all maps we can generate\n# and explain their significance.\n\nfig = plt.figure(figsize=(15, 6))\nax1 = fig.add_subplot(1, 5, 1, title=r'MSD')\nax1.set_axis_off()\nmsd = np.array(mapfit_both_aniso.msd()[:, 0, :].T, dtype=float)\nind = ax1.imshow(msd, interpolation='nearest', origin='lower',\n                 cmap=plt.cm.gray)\n\nax2 = fig.add_subplot(1, 5, 2, title=r'QIV')\nax2.set_axis_off()\nqiv = np.array(mapfit_both_aniso.qiv()[:, 0, :].T, dtype=float)\nind = ax2.imshow(qiv, interpolation='nearest', origin='lower',\n                 cmap=plt.cm.gray)\n\nax3 = fig.add_subplot(1, 5, 3, title=r'RTOP')\nax3.set_axis_off()\nrtop = np.array((mapfit_both_aniso.rtop()[:, 0, :]).T, dtype=float)\nind = ax3.imshow(rtop, interpolation='nearest', origin='lower',\n                 cmap=plt.cm.gray)\n\nax4 = fig.add_subplot(1, 5, 4, title=r'RTAP')\nax4.set_axis_off()\nrtap = np.array((mapfit_both_aniso.rtap()[:, 0, :]).T, dtype=float)\nind = ax4.imshow(rtap, interpolation='nearest', origin='lower',\n                 cmap=plt.cm.gray)\n\nax5 = fig.add_subplot(1, 5, 5, title=r'RTPP')\nax5.set_axis_off()\nrtpp = np.array(mapfit_both_aniso.rtpp()[:, 0, :].T, dtype=float)\nind = ax5.imshow(rtpp, interpolation='nearest', origin='lower',\n                 cmap=plt.cm.gray)\nplt.savefig('MAPMRI_maps.png')"
      ]
    },
    {
      "cell_type": "markdown",
      "metadata": {},
      "source": [
        ".. figure:: MAPMRI_maps.png\n   :align: center\n\nFrom left to right:\n\n- Mean Squared Displacement (MSD) is a measure for how far protons are able\n  to diffuse. a decrease in MSD indicates protons are hindered/restricted\n  more, as can be seen by the high MSD in the CSF, but low in the white\n  matter.\n- Q-space Inverse Variance (QIV) is a measure of variance in the signal,\n  which is said to have higher contrast to white matter than the MSD\n  [Hosseinbor2013]_. We also showed that QIV has high sensitivity to tissue\n  composition change in a simulation study [Fick2016b]_.\n- Return to origin probability (RTOP) quantifies the probability that a\n  proton will be at the same position at the first and second diffusion\n  gradient pulse. A higher RTOP indicates that the volume a spin is inside of\n  is smaller, meaning more overall restriction. This is illustrated by the\n  low values in CSF and high values in white matter.\n- Return to axis probability (RTAP) is a directional index that quantifies\n  the probability that a proton will be along the axis of the main\n  eigenvector of a diffusion tensor during both diffusion gradient pulses.\n  RTAP has been related to the apparent axon diameter [Ozarslan2013]_\n  [Fick2016a]_ under several strong assumptions on the tissue composition and\n  acquisition protocol.\n- Return to plane probability (RTPP) is a directional index that quantifies\n  the probability that a proton will be on the plane perpendicular to the\n  main eigenvector of a diffusion tensor during both gradient pulses. RTPP is\n  related to the length of a pore [Ozarslan2013]_ but in practice should be\n  similar to that of Gaussian diffusion.\n\nIt is also possible to estimate the amount of non-Gaussian diffusion in every\nvoxel [Ozarslan2013]_. This quantity is estimated through the ratio between\nGaussian volume (MAPMRI's first basis function) and the non-Gaussian volume\n(all other basis functions) of the fitted signal. For this value to be\nphysically meaningful we must use a b-value threshold in the MAPMRI model.\nThis threshold makes the scale estimation in MAPMRI only use samples that\nrealistically describe Gaussian diffusion, i.e., at low b-values.\n\n"
      ]
    },
    {
      "cell_type": "code",
      "execution_count": null,
      "metadata": {
        "collapsed": false
      },
      "outputs": [],
      "source": [
        "map_model_both_ng = mapmri.MapmriModel(gtab, radial_order=radial_order,\n                                       laplacian_regularization=True,\n                                       laplacian_weighting=.05,\n                                       positivity_constraint=True,\n                                       bval_threshold=2000)\n\nmapfit_both_ng = map_model_both_ng.fit(data_small)\n\nfig = plt.figure(figsize=(10, 6))\nax1 = fig.add_subplot(1, 3, 1, title=r'NG')\nax1.set_axis_off()\nng = np.array(mapfit_both_ng.ng()[:, 0, :].T, dtype=float)\nind = ax1.imshow(ng, interpolation='nearest', origin='lower',\n                 cmap=plt.cm.gray)\ndivider = make_axes_locatable(ax1)\ncax = divider.append_axes(\"right\", size=\"5%\", pad=0.05)\nplt.colorbar(ind, cax=cax)\n\n\nax2 = fig.add_subplot(1, 3, 2, title=r'NG perpendicular')\nax2.set_axis_off()\nng_perpendicular = np.array(mapfit_both_ng.ng_perpendicular()[:, 0, :].T,\n                            dtype=float)\nind = ax2.imshow(ng_perpendicular, interpolation='nearest', origin='lower',\n                 cmap=plt.cm.gray)\ndivider = make_axes_locatable(ax2)\ncax = divider.append_axes(\"right\", size=\"5%\", pad=0.05)\nplt.colorbar(ind, cax=cax)\n\nax3 = fig.add_subplot(1, 3, 3, title=r'NG parallel')\nax3.set_axis_off()\nng_parallel = np.array(mapfit_both_ng.ng_parallel()[:, 0, :].T, dtype=float)\nind = ax3.imshow(ng_parallel, interpolation='nearest', origin='lower',\n                 cmap=plt.cm.gray)\ndivider = make_axes_locatable(ax3)\ncax = divider.append_axes(\"right\", size=\"5%\", pad=0.05)\nplt.colorbar(ind, cax=cax)\nplt.savefig('MAPMRI_ng.png')"
      ]
    },
    {
      "cell_type": "markdown",
      "metadata": {},
      "source": [
        ".. figure:: MAPMRI_ng.png\n   :align: center\n\nOn the left we see the overall NG and on the right the directional\nperpendicular NG and parallel NG. The NG ranges from 1 (completely\nnon-Gaussian) to 0 (completely Gaussian). The overall NG of a voxel is always\nhigher or equal than each of its components. It can be seen that NG has low\nvalues in the CSF and higher in the white matter.\n\nIncreases or decreases in these values do not point to a specific\nmicrostructural change, but can indicate clues as to what is happening,\nsimilar to Fractional Anisotropy. An initial simulation study that quantifies\nthe added value of q-space indices over DTI indices is given in [Fick2016b]_.\n\nThe MAPMRI framework also allows for the estimation of Orientation\nDistribution Functions (ODFs). We recommend to use the isotropic\nimplementation for this purpose, as the anisotropic implementation has a bias\ntowards smaller crossing angles.\n\nFor the isotropic basis we recommend to use a ``radial_order`` of 8, as the\nbasis needs more generic and needs more basis functions to approximate the\nsignal.\n\n"
      ]
    },
    {
      "cell_type": "code",
      "execution_count": null,
      "metadata": {
        "collapsed": false
      },
      "outputs": [],
      "source": [
        "radial_order = 8\nmap_model_both_iso = mapmri.MapmriModel(gtab, radial_order=radial_order,\n                                        laplacian_regularization=True,\n                                        laplacian_weighting=.1,\n                                        positivity_constraint=True,\n                                        anisotropic_scaling=False)\n\nmapfit_both_iso = map_model_both_iso.fit(data_small)"
      ]
    },
    {
      "cell_type": "markdown",
      "metadata": {},
      "source": [
        "Load an ODF reconstruction sphere\n\n"
      ]
    },
    {
      "cell_type": "code",
      "execution_count": null,
      "metadata": {
        "collapsed": false
      },
      "outputs": [],
      "source": [
        "sphere = get_sphere('repulsion724')"
      ]
    },
    {
      "cell_type": "markdown",
      "metadata": {},
      "source": [
        "Compute the ODFs.\n\nThe radial order ``s`` can be increased to sharpen the results, but it might\nalso make the ODFs noisier. Always check the results visually.\n\n"
      ]
    },
    {
      "cell_type": "code",
      "execution_count": null,
      "metadata": {
        "collapsed": false
      },
      "outputs": [],
      "source": [
        "odf = mapfit_both_iso.odf(sphere, s=2)\nprint('odf.shape (%d, %d, %d, %d)' % odf.shape)"
      ]
    },
    {
      "cell_type": "markdown",
      "metadata": {},
      "source": [
        "Display the ODFs.\n\n"
      ]
    },
    {
      "cell_type": "code",
      "execution_count": null,
      "metadata": {
        "collapsed": false
      },
      "outputs": [],
      "source": [
        "# Enables/disables interactive visualization\ninteractive = False\n\nscene = window.Scene()\nsfu = actor.odf_slicer(odf, sphere=sphere, colormap='plasma', scale=0.5)\nsfu.display(y=0)\nsfu.RotateX(-90)\nscene.add(sfu)\nwindow.record(scene, out_path='odfs.png', size=(600, 600))\nif interactive:\n    window.show(scene)"
      ]
    },
    {
      "cell_type": "markdown",
      "metadata": {},
      "source": [
        ".. figure:: odfs.png\n   :align: center\n\n   Orientation distribution functions (ODFs).\n\n## References\n\n.. [Ozarslan2013] Ozarslan E. et al., \"Mean apparent propagator (MAP) MRI: A\n   novel diffusion imaging method for mapping tissue microstructure\",\n   NeuroImage, 2013.\n\n.. [Fick2016a] Fick, Rutger HJ, et al. \"MAPL: Tissue microstructure\n   estimation using Laplacian-regularized MAP-MRI and its application to HCP\n   data.\" NeuroImage (2016).\n\n.. [Craven1978] Craven et al. \"Smoothing Noisy Data with Spline Functions.\"\n   NUMER MATH 31.4 (1978): 377-403.\n\n.. [Hosseinbor2013] Hosseinbor et al. \"Bessel fourier orientation\n   reconstruction (bfor): an analytical diffusion propagator reconstruction\n   for hybrid diffusion imaging and computation of q-space indices.\n   NeuroImage 64, 650-670.\n\n.. [Fick2016b] Fick et al. \"A sensitivity analysis of Q-space indices with\n   respect to changes in axonal diameter, dispersion and tissue composition.\n   ISBI 2016.\n\n.. include:: ../links_names.inc\n\n"
      ]
    }
  ],
  "metadata": {
    "kernelspec": {
      "display_name": "Python 3",
      "language": "python",
      "name": "python3"
    },
    "language_info": {
      "codemirror_mode": {
        "name": "ipython",
        "version": 3
      },
      "file_extension": ".py",
      "mimetype": "text/x-python",
      "name": "python",
      "nbconvert_exporter": "python",
      "pygments_lexer": "ipython3",
      "version": "3.7.4"
    }
  },
  "nbformat": 4,
  "nbformat_minor": 0
}