{
  "cells": [
    {
      "cell_type": "code",
      "execution_count": null,
      "metadata": {
        "collapsed": false
      },
      "outputs": [],
      "source": [
        "%matplotlib inline"
      ]
    },
    {
      "cell_type": "markdown",
      "metadata": {},
      "source": [
        "\n# Automatic Fiber Bundle Extraction with RecoBundles\n\nThis example explains how we can use RecoBundles [Garyfallidis17]_ to\nextract bundles from tractograms.\n\nFirst import the necessary modules.\n"
      ]
    },
    {
      "cell_type": "code",
      "execution_count": null,
      "metadata": {
        "collapsed": false
      },
      "outputs": [],
      "source": [
        "from dipy.data.fetcher import get_two_hcp842_bundles\nfrom dipy.data.fetcher import (fetch_target_tractogram_hcp,\n                               fetch_bundle_atlas_hcp842,\n                               get_bundle_atlas_hcp842,\n                               get_target_tractogram_hcp)\nimport numpy as np\nfrom dipy.segment.bundles import RecoBundles\nfrom dipy.align.streamlinear import whole_brain_slr\nfrom fury import actor, window\nfrom dipy.io.stateful_tractogram import Space, StatefulTractogram\nfrom dipy.io.streamline import load_trk, save_trk\nfrom dipy.io.utils import create_tractogram_header"
      ]
    },
    {
      "cell_type": "markdown",
      "metadata": {},
      "source": [
        "Download and read data for this tutorial\n\n"
      ]
    },
    {
      "cell_type": "code",
      "execution_count": null,
      "metadata": {
        "collapsed": false
      },
      "outputs": [],
      "source": [
        "target_file, target_folder = fetch_target_tractogram_hcp()\natlas_file, atlas_folder = fetch_bundle_atlas_hcp842()\n\natlas_file, all_bundles_files = get_bundle_atlas_hcp842()\ntarget_file = get_target_tractogram_hcp()\n\nsft_atlas = load_trk(atlas_file, \"same\", bbox_valid_check=False)\natlas = sft_atlas.streamlines\natlas_header = create_tractogram_header(atlas_file,\n                                        *sft_atlas.space_attributes)\n\nsft_target = load_trk(target_file, \"same\", bbox_valid_check=False)\ntarget = sft_target.streamlines\ntarget_header = create_tractogram_header(atlas_file,\n                                         *sft_atlas.space_attributes)"
      ]
    },
    {
      "cell_type": "markdown",
      "metadata": {},
      "source": [
        "let's visualize atlas tractogram and target tractogram before registration\n\n"
      ]
    },
    {
      "cell_type": "code",
      "execution_count": null,
      "metadata": {
        "collapsed": false
      },
      "outputs": [],
      "source": [
        "interactive = False\n\nscene = window.Scene()\nscene.SetBackground(1, 1, 1)\nscene.add(actor.line(atlas, colors=(1, 0, 1)))\nscene.add(actor.line(target, colors=(1, 1, 0)))\nwindow.record(scene, out_path='tractograms_initial.png', size=(600, 600))\nif interactive:\n    window.show(scene)"
      ]
    },
    {
      "cell_type": "markdown",
      "metadata": {},
      "source": [
        ".. figure:: tractograms_initial.png\n   :align: center\n\n   Atlas and target before registration.\n\n\nWe will register target tractogram to model atlas' space using streamlinear\nregisteration (SLR) [Garyfallidis15]_\n\n"
      ]
    },
    {
      "cell_type": "code",
      "execution_count": null,
      "metadata": {
        "collapsed": false
      },
      "outputs": [],
      "source": [
        "moved, transform, qb_centroids1, qb_centroids2 = whole_brain_slr(\n    atlas, target, x0='affine', verbose=True, progressive=True,\n    rng=np.random.RandomState(1984))"
      ]
    },
    {
      "cell_type": "markdown",
      "metadata": {},
      "source": [
        "We save the transform generated in this registration, so that we can use\nit in the bundle profiles example\n\n"
      ]
    },
    {
      "cell_type": "code",
      "execution_count": null,
      "metadata": {
        "collapsed": false
      },
      "outputs": [],
      "source": [
        "np.save(\"slr_transform.npy\", transform)"
      ]
    },
    {
      "cell_type": "markdown",
      "metadata": {},
      "source": [
        "let's visualize atlas tractogram and target tractogram after registration\n\n"
      ]
    },
    {
      "cell_type": "code",
      "execution_count": null,
      "metadata": {
        "collapsed": false
      },
      "outputs": [],
      "source": [
        "interactive = False\n\nscene = window.Scene()\nscene.SetBackground(1, 1, 1)\nscene.add(actor.line(atlas, colors=(1, 0, 1)))\nscene.add(actor.line(moved, colors=(1, 1, 0)))\nwindow.record(scene, out_path='tractograms_after_registration.png',\n              size=(600, 600))\nif interactive:\n    window.show(scene)"
      ]
    },
    {
      "cell_type": "markdown",
      "metadata": {},
      "source": [
        ".. figure:: tractograms_after_registration.png\n   :align: center\n\n   Atlas and target after registration.\n\n\n\n\nRead AF left and CST left bundles from already fetched atlas data to use them\nas model bundles\n\n"
      ]
    },
    {
      "cell_type": "code",
      "execution_count": null,
      "metadata": {
        "collapsed": false
      },
      "outputs": [],
      "source": [
        "model_af_l_file, model_cst_l_file = get_two_hcp842_bundles()"
      ]
    },
    {
      "cell_type": "markdown",
      "metadata": {},
      "source": [
        "Extracting bundles using recobundles [Garyfallidis17]_\n\n"
      ]
    },
    {
      "cell_type": "code",
      "execution_count": null,
      "metadata": {
        "collapsed": false
      },
      "outputs": [],
      "source": [
        "sft_af_l = load_trk(model_af_l_file, \"same\", bbox_valid_check=False)\nmodel_af_l = sft_af_l.streamlines\n\nrb = RecoBundles(moved, verbose=True, rng=np.random.RandomState(2001))\n\nrecognized_af_l, af_l_labels = rb.recognize(model_bundle=model_af_l,\n                                            model_clust_thr=5.,\n                                            reduction_thr=10,\n                                            reduction_distance='mam',\n                                            slr=True,\n                                            slr_metric='asymmetric',\n                                            pruning_distance='mam')"
      ]
    },
    {
      "cell_type": "markdown",
      "metadata": {},
      "source": [
        "let's visualize extracted Arcuate Fasciculus Left bundle and model bundle\ntogether\n\n"
      ]
    },
    {
      "cell_type": "code",
      "execution_count": null,
      "metadata": {
        "collapsed": false
      },
      "outputs": [],
      "source": [
        "interactive = False\n\nscene = window.Scene()\nscene.SetBackground(1, 1, 1)\nscene.add(actor.line(model_af_l, colors=(.1, .7, .26)))\nscene.add(actor.line(recognized_af_l, colors=(.1, .1, 6)))\nscene.set_camera(focal_point=(320.21296692, 21.28884506,  17.2174015),\n                 position=(2.11, 200.46, 250.44), view_up=(0.1, -1.028, 0.18))\nwindow.record(scene, out_path='AF_L_recognized_bundle.png',\n              size=(600, 600))\nif interactive:\n    window.show(scene)"
      ]
    },
    {
      "cell_type": "markdown",
      "metadata": {},
      "source": [
        ".. figure:: AF_L_recognized_bundle.png\n   :align: center\n\n   Extracted Arcuate Fasciculus Left bundle and model bundle\n\n\nSave the bundle as a trk file. Rather than saving the recognized streamlines\nin the space of the atlas, we save the streamlines that are in the original\nspace of the subject anatomy.\n\n"
      ]
    },
    {
      "cell_type": "code",
      "execution_count": null,
      "metadata": {
        "collapsed": false
      },
      "outputs": [],
      "source": [
        "reco_af_l = StatefulTractogram(target[af_l_labels], target_header,\n                               Space.RASMM)\nsave_trk(reco_af_l, \"AF_L.trk\", bbox_valid_check=False)\n\nsft_cst_l = load_trk(model_cst_l_file, \"same\", bbox_valid_check=False)\nmodel_cst_l = sft_cst_l.streamlines\n\nrecognized_cst_l, cst_l_labels = rb.recognize(model_bundle=model_cst_l,\n                                              model_clust_thr=5.,\n                                              reduction_thr=10,\n                                              reduction_distance='mam',\n                                              slr=True,\n                                              slr_metric='asymmetric',\n                                              pruning_distance='mam')"
      ]
    },
    {
      "cell_type": "markdown",
      "metadata": {},
      "source": [
        "let's visualize extracted Corticospinal Tract (CST) Left bundle and model\nbundle together\n\n"
      ]
    },
    {
      "cell_type": "code",
      "execution_count": null,
      "metadata": {
        "collapsed": false
      },
      "outputs": [],
      "source": [
        "interactive = False\n\nscene = window.Scene()\nscene.SetBackground(1, 1, 1)\nscene.add(actor.line(model_cst_l, colors=(.1, .7, .26)))\nscene.add(actor.line(recognized_cst_l, colors=(.1, .1, 6)))\nscene.set_camera(focal_point=(-18.17281532, -19.55606842, 6.92485857),\n                 position=(-360.11, -340.46, -40.44),\n                 view_up=(-0.03, 0.028, 0.89))\nwindow.record(scene, out_path='CST_L_recognized_bundle.png',\n              size=(600, 600))\nif interactive:\n    window.show(scene)"
      ]
    },
    {
      "cell_type": "markdown",
      "metadata": {},
      "source": [
        ".. figure:: CST_L_recognized_bundle.png\n   :align: center\n\n   Extracted Corticospinal Tract (CST) Left bundle and model bundle\n\n\nSave the bundle as a trk file:\n\n"
      ]
    },
    {
      "cell_type": "code",
      "execution_count": null,
      "metadata": {
        "collapsed": false
      },
      "outputs": [],
      "source": [
        "reco_cst_l = StatefulTractogram(target[cst_l_labels], target_header,\n                                Space.RASMM)\nsave_trk(reco_cst_l, \"CST_L.trk\", bbox_valid_check=False)"
      ]
    },
    {
      "cell_type": "markdown",
      "metadata": {},
      "source": [
        "## References\n\n.. [Garyfallidis17] Garyfallidis et al. Recognition of white matter\n   bundles using local and global streamline-based registration\n   and clustering, Neuroimage, 2017.\n\n"
      ]
    }
  ],
  "metadata": {
    "kernelspec": {
      "display_name": "Python 3",
      "language": "python",
      "name": "python3"
    },
    "language_info": {
      "codemirror_mode": {
        "name": "ipython",
        "version": 3
      },
      "file_extension": ".py",
      "mimetype": "text/x-python",
      "name": "python",
      "nbconvert_exporter": "python",
      "pygments_lexer": "ipython3",
      "version": "3.7.4"
    }
  },
  "nbformat": 4,
  "nbformat_minor": 0
}