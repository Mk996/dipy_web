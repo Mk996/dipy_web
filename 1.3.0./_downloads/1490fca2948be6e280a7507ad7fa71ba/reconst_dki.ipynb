{
  "cells": [
    {
      "cell_type": "code",
      "execution_count": null,
      "metadata": {
        "collapsed": false
      },
      "outputs": [],
      "source": [
        "%matplotlib inline"
      ]
    },
    {
      "cell_type": "markdown",
      "metadata": {},
      "source": [
        "\n# Reconstruction of the diffusion signal with the kurtosis tensor model\n\nThe diffusion kurtosis model is an expansion of the diffusion tensor model\n(see `example_reconst_dti`). In addition to the diffusion tensor (DT), the\ndiffusion kurtosis model quantifies the degree to which water diffusion in\nbiological tissues is non-Gaussian using the kurtosis tensor (KT)\n[Jensen2005]_.\n\nMeasurements of non-Gaussian diffusion from the diffusion kurtosis model are of\ninterest because they can be used to charaterize tissue microstructural\nheterogeneity [Jensen2010]_. Moreover, DKI can be used to: 1) derive concrete\nbiophysical parameters, such as the density of axonal fibers and diffusion\ntortuosity [Fierem2011]_ (see `example_reconst_dki_micro`); and 2)\nresolve crossing fibers in tractography and to obtain invariant rotational\nmeasures not limited to well-aligned fiber populations [NetoHe2015]_.\n\nThe diffusion kurtosis model expresses the diffusion-weighted signal as:\n\n\\begin{align}S(n,b)=S_{0}e^{-bD(n)+\frac{1}{6}b^{2}D(n)^{2}K(n)}\\end{align}\n\nwhere $\\mathbf{b}$ is the applied diffusion weighting (which is dependent on\nthe measurement parameters), $S_0$ is the signal in the absence of diffusion\ngradient sensitization, $\\mathbf{D(n)}$ is the value of diffusion along\ndirection $\\mathbf{n}$, and $\\mathbf{K(n)}$ is the value of kurtosis along\ndirection $\\mathbf{n}$. The directional diffusion $\\mathbf{D(n)}$ and kurtosis\n$\\mathbf{K(n)}$ can be related to the diffusion tensor (DT) and kurtosis tensor\n(KT) using the following equations:\n\n\\begin{align}D(n)=\\sum_{i=1}^{3}\\sum_{j=1}^{3}n_{i}n_{j}D_{ij}\\end{align}\n\nand\n\n\\begin{align}K(n)=\frac{MD^{2}}{D(n)^{2}}\\sum_{i=1}^{3}\\sum_{j=1}^{3}\\sum_{k=1}^{3}\n     \\sum_{l=1}^{3}n_{i}n_{j}n_{k}n_{l}W_{ijkl}\\end{align}\n\nwhere $D_{ij}$ are the elements of the second-order DT, and $W_{ijkl}$ the\nelements of the fourth-order KT and $MD$ is the mean diffusivity. As the DT,\nKT has antipodal symmetry and thus only 15 Wijkl elemments are needed to fully\ncharacterize the KT:\n\n\\begin{align}\begin{matrix} ( & W_{xxxx} & W_{yyyy} & W_{zzzz} & W_{xxxy} & W_{xxxz}\n                    & ... \\\n                    & W_{xyyy} & W_{yyyz} & W_{xzzz} & W_{yzzz} & W_{xxyy}\n                    & ... \\\n                    & W_{xxzz} & W_{yyzz} & W_{xxyz} & W_{xyyz} & W_{xyzz}\n                    & & )\\end{matrix}\\end{align}\n\nIn the following example we show how to fit the diffusion kurtosis model on\ndiffusion-weighted multi-shell datasets and how to estimate diffusion kurtosis\nbased statistics.\n\nFirst, we import all relevant modules:\n"
      ]
    },
    {
      "cell_type": "code",
      "execution_count": null,
      "metadata": {
        "collapsed": false
      },
      "outputs": [],
      "source": [
        "import numpy as np\nimport matplotlib.pyplot as plt\nimport dipy.reconst.dki as dki\nimport dipy.reconst.dti as dti\nfrom dipy.core.gradients import gradient_table\nfrom dipy.data import get_fnames\nfrom dipy.io.gradients import read_bvals_bvecs\nfrom dipy.io.image import load_nifti\nfrom dipy.segment.mask import median_otsu\nfrom scipy.ndimage.filters import gaussian_filter"
      ]
    },
    {
      "cell_type": "markdown",
      "metadata": {},
      "source": [
        "DKI requires multi-shell data, i.e. data acquired from more than one non-zero\nb-value. Here, we use fetch to download a multi-shell dataset which was\nkindly provided by Hansen and Jespersen (more details about the data are\nprovided in their paper [Hansen2016]_). The total size of the downloaded data\nis 192 MBytes, however you only need to fetch it once.\n\n"
      ]
    },
    {
      "cell_type": "code",
      "execution_count": null,
      "metadata": {
        "collapsed": false
      },
      "outputs": [],
      "source": [
        "fraw, fbval, fbvec, t1_fname = get_fnames('cfin_multib')\n\ndata, affine = load_nifti(fraw)\nbvals, bvecs = read_bvals_bvecs(fbval, fbvec)\ngtab = gradient_table(bvals, bvecs)"
      ]
    },
    {
      "cell_type": "markdown",
      "metadata": {},
      "source": [
        "Function ``get_fnames`` downloads and outputs the paths of the data,\n``load_nifti`` returns the data as a nibabel Nifti1Image object, and\n``read_bvals_bvecs`` loads the arrays containing the information about the\nb-values and b-vectors. These later arrays are converted to the GradientTable\nobject required for Dipy_'s data reconstruction.\n\nBefore fitting the data, we preform some data pre-processing. We first\ncompute a brain mask to avoid unnecessary calculations on the background of\nthe image.\n\n"
      ]
    },
    {
      "cell_type": "code",
      "execution_count": null,
      "metadata": {
        "collapsed": false
      },
      "outputs": [],
      "source": [
        "maskdata, mask = median_otsu(data, vol_idx=[0, 1], median_radius=4, numpass=2,\n                             autocrop=False, dilate=1)"
      ]
    },
    {
      "cell_type": "markdown",
      "metadata": {},
      "source": [
        "Since the diffusion kurtosis models involves the estimation of a large number\nof parameters [TaxCMW2015]_ and since the non-Gaussian components of the\ndiffusion signal are more sensitive to artefacts [NetoHe2012]_, it might be\nfavorable to suppress the effects of noise and artefacts before diffusion\nkurtosis fitting. In this example the effects of noise and artefacts are\nsuppress by using 3D Gaussian smoothing (with a Gaussian kernel with\nfwhm=1.25) as suggested by pioneer DKI studies (e.g. [Jensen2005]_,\n[NetoHe2012]_). Although here the Gaussian smoothing is used so that results\nare comparable to these studies, it is important to note that more advanced\nnoise and artifact suppression algorithms are available in DIPY_, e.g. the\nMarcenko-Pastur PCA denoising algorithm (`example-denoise-mppca`) and\nthe Gibbs artefact suppression algorithm (`example-denoise-gibbs`).\n\n"
      ]
    },
    {
      "cell_type": "code",
      "execution_count": null,
      "metadata": {
        "collapsed": false
      },
      "outputs": [],
      "source": [
        "fwhm = 1.25\ngauss_std = fwhm / np.sqrt(8 * np.log(2))  # converting fwhm to Gaussian std\ndata_smooth = np.zeros(data.shape)\nfor v in range(data.shape[-1]):\n    data_smooth[..., v] = gaussian_filter(data[..., v], sigma=gauss_std)"
      ]
    },
    {
      "cell_type": "markdown",
      "metadata": {},
      "source": [
        "Now that we have loaded and pre-processed the data we can go forward\nwith DKI fitting. For this, the DKI model is first defined for the data's\nGradientTable object by instantiating the DiffusionKurtosisModel object in\nthe following way:\n\n"
      ]
    },
    {
      "cell_type": "code",
      "execution_count": null,
      "metadata": {
        "collapsed": false
      },
      "outputs": [],
      "source": [
        "dkimodel = dki.DiffusionKurtosisModel(gtab)"
      ]
    },
    {
      "cell_type": "markdown",
      "metadata": {},
      "source": [
        "To fit the data using the defined model object, we call the ``fit`` function\nof this object:\n\n"
      ]
    },
    {
      "cell_type": "code",
      "execution_count": null,
      "metadata": {
        "collapsed": false
      },
      "outputs": [],
      "source": [
        "dkifit = dkimodel.fit(data_smooth, mask=mask)"
      ]
    },
    {
      "cell_type": "markdown",
      "metadata": {},
      "source": [
        "The fit method creates a DiffusionKurtosisFit object, which contains all the\ndiffusion and kurtosis fitting parameters and other DKI attributes. For\ninstance, since the diffusion kurtosis model estimates the diffusion tensor,\nall diffusion standard tensor statistics can be computed from the\nDiffusionKurtosisFit instance. For example, we show below how to extract the\nfractional anisotropy (FA), the mean diffusivity (MD), the axial diffusivity\n(AD) and the radial diffusivity (RD) from the DiffusionKurtosisiFit instance.\n\n"
      ]
    },
    {
      "cell_type": "code",
      "execution_count": null,
      "metadata": {
        "collapsed": false
      },
      "outputs": [],
      "source": [
        "FA = dkifit.fa\nMD = dkifit.md\nAD = dkifit.ad\nRD = dkifit.rd"
      ]
    },
    {
      "cell_type": "markdown",
      "metadata": {},
      "source": [
        "Note that these four standard measures could also be computed from DIPY's DTI\nmodule. Computing these measures from both models should be analogous;\nhowever, theoretically, the diffusion statistics from the kurtosis model are\nexpected to have better accuracy, since DKI's diffusion tensor are decoupled\nfrom higher order terms effects [Veraar2011]_, [NetoHe2012]_. For comparison\npurposes, we calculate below the FA, MD, AD, and RD using DIPY's\n``TensorModel``.\n\n"
      ]
    },
    {
      "cell_type": "code",
      "execution_count": null,
      "metadata": {
        "collapsed": false
      },
      "outputs": [],
      "source": [
        "tenmodel = dti.TensorModel(gtab)\ntenfit = tenmodel.fit(data_smooth, mask=mask)\n\ndti_FA = tenfit.fa\ndti_MD = tenfit.md\ndti_AD = tenfit.ad\ndti_RD = tenfit.rd"
      ]
    },
    {
      "cell_type": "markdown",
      "metadata": {},
      "source": [
        "The DT based measures can be easily visualized using matplotlib. For example,\nthe FA, MD, AD, and RD obtained from the diffusion kurtosis model (upper\npanels) and the tensor model (lower panels) are plotted for a selected axial\nslice. DTI's diffusion estimates present lower values than DKI's estimates,\nshowing that DTI's diffusion measurements are underestimated  by higher order\neffects.\n\n"
      ]
    },
    {
      "cell_type": "code",
      "execution_count": null,
      "metadata": {
        "collapsed": false
      },
      "outputs": [],
      "source": [
        "axial_slice = 9\n\nfig1, ax = plt.subplots(2, 4, figsize=(12, 6),\n                        subplot_kw={'xticks': [], 'yticks': []})\n\nfig1.subplots_adjust(hspace=0.3, wspace=0.05)\n\nax.flat[0].imshow(FA[:, :, axial_slice].T, cmap='gray',\n                  vmin=0, vmax=0.7, origin='lower')\nax.flat[0].set_title('FA (DKI)')\nax.flat[1].imshow(MD[:, :, axial_slice].T, cmap='gray',\n                  vmin=0, vmax=2.0e-3, origin='lower')\nax.flat[1].set_title('MD (DKI)')\nax.flat[2].imshow(AD[:, :, axial_slice].T, cmap='gray',\n                  vmin=0, vmax=2.0e-3, origin='lower')\nax.flat[2].set_title('AD (DKI)')\nax.flat[3].imshow(RD[:, :, axial_slice].T, cmap='gray',\n                  vmin=0, vmax=2.0e-3, origin='lower')\nax.flat[3].set_title('RD (DKI)')\n\nax.flat[4].imshow(dti_FA[:, :, axial_slice].T, cmap='gray',\n                  vmin=0, vmax=0.7, origin='lower')\nax.flat[4].set_title('FA (DTI)')\nax.flat[5].imshow(dti_MD[:, :, axial_slice].T, cmap='gray',\n                  vmin=0, vmax=2.0e-3, origin='lower')\nax.flat[5].set_title('MD (DTI)')\nax.flat[6].imshow(dti_AD[:, :, axial_slice].T, cmap='gray',\n                  vmin=0, vmax=2.0e-3, origin='lower')\nax.flat[6].set_title('AD (DTI)')\nax.flat[7].imshow(dti_RD[:, :, axial_slice].T, cmap='gray',\n                  vmin=0, vmax=2.0e-3, origin='lower')\nax.flat[7].set_title('RD (DTI)')\n\nplt.show()\nfig1.savefig('Diffusion_tensor_measures_from_DTI_and_DKI.png')"
      ]
    },
    {
      "cell_type": "markdown",
      "metadata": {},
      "source": [
        ".. figure:: Diffusion_tensor_measures_from_DTI_and_DKI.png\n   :align: center\n\n   Diffusion tensor measures obtained from the diffusion tensor estimated\n   from DKI (upper panels) and DTI (lower panels).\n\nIn addition to the standard diffusion statistics, the DiffusionKurtosisFit\ninstance can be used to estimate the non-Gaussian measures of mean kurtosis\n(MK), the axial kurtosis (AK) and the radial kurtosis (RK).\n\nKurtosis measures are susceptible to high amplitude outliers. The impact of\nhigh amplitude kurtosis outliers can be removed by introducing as an optional\ninput the extremes of the typical values of kurtosis. Here these are assumed\nto be on the range between 0 and 3):\n\n"
      ]
    },
    {
      "cell_type": "code",
      "execution_count": null,
      "metadata": {
        "collapsed": false
      },
      "outputs": [],
      "source": [
        "MK = dkifit.mk(0, 3)\nAK = dkifit.ak(0, 3)\nRK = dkifit.rk(0, 3)"
      ]
    },
    {
      "cell_type": "markdown",
      "metadata": {},
      "source": [
        "Now we are ready to plot the kurtosis standard measures using matplotlib:\n\n"
      ]
    },
    {
      "cell_type": "code",
      "execution_count": null,
      "metadata": {
        "collapsed": false
      },
      "outputs": [],
      "source": [
        "fig2, ax = plt.subplots(1, 3, figsize=(12, 6),\n                        subplot_kw={'xticks': [], 'yticks': []})\n\nfig2.subplots_adjust(hspace=0.3, wspace=0.05)\n\nax.flat[0].imshow(MK[:, :, axial_slice].T, cmap='gray', vmin=0, vmax=1.5,\n                  origin='lower')\nax.flat[0].set_title('MK')\nax.flat[0].annotate('', fontsize=12, xy=(57, 30),\n                    color='red',\n                    xycoords='data', xytext=(30, 0),\n                    textcoords='offset points',\n                    arrowprops=dict(arrowstyle=\"->\",\n                                    color='red'))\nax.flat[1].imshow(AK[:, :, axial_slice].T, cmap='gray', vmin=0, vmax=1.5,\n                  origin='lower')\nax.flat[1].set_title('AK')\nax.flat[2].imshow(RK[:, :, axial_slice].T, cmap='gray', vmin=0, vmax=1.5,\n                  origin='lower')\nax.flat[2].set_title('RK')\nax.flat[2].annotate('', fontsize=12, xy=(57, 30),\n                    color='red',\n                    xycoords='data', xytext=(30, 0),\n                    textcoords='offset points',\n                    arrowprops=dict(arrowstyle=\"->\",\n                                    color='red'))\n\nplt.show()\nfig2.savefig('Kurtosis_tensor_standard_measures.png')"
      ]
    },
    {
      "cell_type": "markdown",
      "metadata": {},
      "source": [
        ".. figure:: Kurtosis_tensor_standard_measures.png\n   :align: center\n\n   DKI standard kurtosis measures.\n\nThe non-Gaussian behaviour of the diffusion signal is expected to be higher\nwhen tissue water is confined by multiple compartments. MK is, therefore,\nhigher in white matter since it is highly compartmentalized by myelin\nsheaths. These water diffusion compartmentalization is expected to be more\npronounced prependicularly to white matter fibers and thus the RK map\npresents higher amplitudes than the AK map.\n\nIt is important to note that kurtosis estimates might presented negative\nestimates in deep white matter regions (e.g. red arrow added in the figure\nabove). This negative kurtosis values are artefactual and might be induced\nby:\n1) low radial diffusivities of aligned white matter - since it is very hard\nto capture non-Gaussian information in radial direction due to it's low\ndiffusion decays, radial kurtosis estimates (and consequently the mean\nkurtosis estimates) might have low robustness and tendency to exhibit\nnegative values [NetoHe2012]_;\n2) Gibbs artefacts - MRI images might be corrupted by signal oscilation\nartefact between tissue's edges if an inadequate number of high frequencies\nof the k-space is sampled. These oscilations might have different signs on\nimages acquired with different diffusion-weighted and inducing negative\nbiases in kurtosis parametric maps [Perron2015]_, [NetoHe2018]_.\n\nOne can try to suppress this issue by using the more advance noise and\nartefact suppression algorithms, e.g., as mentioned above, the MP-PCA\ndenoising (`example-denoise-mppca`) and Gibbs Unringing\n(`example-denoise-gibbs`) algorithms. Alternatively, one can overcome\nthis artefact by computing the kurtosis values from powder-averaged\ndiffusion-weighted signals. The details on how to compute\nthe kurtosis from powder-average signals in dipy are described in follow the\ntutorial (`example-reconst-msdki`).\n\n## Mean kurtosis tensor and kurtosis fractional anisotropy\n\nAs pointed by previous studies [Hansen2013]_, axial, radial and mean kurtosis\ndepends on the information of both diffusion and kurtosis tensor. DKI\nmeasures that only depend on the kurtosis tensor include the mean of the\nkurtosis tensor [Hansen2013]_, and the kurtosis fractional anisotropy\n[GlennR2015]_. This measures are computed and illustrated bellow:\n\n"
      ]
    },
    {
      "cell_type": "code",
      "execution_count": null,
      "metadata": {
        "collapsed": false
      },
      "outputs": [],
      "source": [
        "MKT = dkifit.mkt(0, 3)\nKFA = dkifit.kfa\n\nfig3, ax = plt.subplots(1, 2, figsize=(10, 6),\n                        subplot_kw={'xticks': [], 'yticks': []})\n\nfig3.subplots_adjust(hspace=0.3, wspace=0.05)\n\nax.flat[0].imshow(MKT[:, :, axial_slice].T, cmap='gray', vmin=0, vmax=1.5,\n                  origin='lower')\nax.flat[0].set_title('MKT')\nax.flat[1].imshow(KFA[:, :, axial_slice].T, cmap='gray', vmin=0, vmax=1,\n                  origin='lower')\nax.flat[1].set_title('KFA')\n\nplt.show()\nfig3.savefig('Measures_from_kurtosis_tensor_only.png')"
      ]
    },
    {
      "cell_type": "markdown",
      "metadata": {},
      "source": [
        ".. figure:: Measures_from_kurtosis_tensor_only.png\n   :align: center\n\n   DKI measures obtained from the kurtosis tensor only.\n\nAs reported by [Hansen2013]_, the mean of the kurtosis tensor (MKT) produces\nsimilar maps than the standard mean kurtosis (MK). On the other hand,\nthe kurtosis fractional anisotropy (KFA) maps shows that the kurtosis tensor\nhave different degrees of anisotropy than the FA measures from the diffusion\ntensor.\n\n### References\n.. [Jensen2005] Jensen JH, Helpern JA, Ramani A, Lu H, Kaczynski K (2005).\n                Diffusional Kurtosis Imaging: The Quantification of\n                Non_Gaussian Water Diffusion by Means of Magnetic Resonance\n                Imaging. Magnetic Resonance in Medicine 53: 1432-1440\n.. [Jensen2010] Jensen JH, Helpern JA (2010). MRI quantification of\n                non-Gaussian water diffusion by kurtosis analysis. NMR in\n                Biomedicine 23(7): 698-710\n.. [Fierem2011] Fieremans E, Jensen JH, Helpern JA (2011). White matter\n                characterization with diffusion kurtosis imaging. NeuroImage\n                58: 177-188\n.. [Veraar2011] Veraart J, Poot DH, Van Hecke W, Blockx I, Van der Linden A,\n                Verhoye M, Sijbers J (2011). More Accurate Estimation of\n                Diffusion Tensor Parameters Using Diffusion Kurtosis Imaging.\n                Magnetic Resonance in Medicine 65(1): 138-145\n.. [NetoHe2012] Neto Henriques R, Ferreira H, Correia M, (2012). Diffusion\n                kurtosis imaging of the healthy human brain. Master\n                Dissertation Bachelor and Master Programin Biomedical\n                Engineering and Biophysics, Faculty of Sciences.\n                http://repositorio.ul.pt/bitstream/10451/8511/1/ulfc104137_tm_Rafael_Henriques.pdf\n.. [Hansen2013] Hansen B, Lund TE, Sangill R, and Jespersen SN (2013).\n                Experimentally and computationally393fast method for\n                estimation of a mean kurtosis. Magnetic Resonance in\n                Medicine 69, 1754\u20131760.394doi:10.1002/mrm.24743\n.. [GlennR2015] Glenn GR, Helpern JA, Tabesh A, Jensen JH (2015).\n                Quantitative assessment of diffusional387kurtosis anisotropy.\n                NMR in Biomedicine28, 448\u2013459. doi:10.1002/nbm.3271\n.. [NetoHe2015] Neto Henriques R, Correia MM, Nunes RG, Ferreira HA (2015).\n                Exploring the 3D geometry of the diffusion kurtosis tensor -\n                Impact on the development of robust tractography procedures\n                and novel biomarkers, NeuroImage 111: 85-99\n.. [Perron2015] Perrone D, Aelterman J, Piz\u030curica A, Jeurissen B, Philips W,\n                Leemans A, (2015). The effect of Gibbs ringing artifacts on\n                measures derived from diffusion MRI. Neuroimage 120, 441-455.\n                https://doi.org/10.1016/j.neuroimage.2015.06.068.\n.. [TaxCMW2015] Tax CMW, Otte WM, Viergever MA, Dijkhuizen RM, Leemans A\n                (2014). REKINDLE: Robust extraction of kurtosis INDices with\n                linear estimation. Magnetic Resonance in Medicine 73(2):\n                794-808.\n.. [Hansen2016] Hansen, B, Jespersen, SN (2016). Data for evaluation of fast\n                kurtosis strategies, b-value optimization and exploration of\n                diffusion MRI contrast. Scientific Data 3: 160072\n                doi:10.1038/sdata.2016.72\n.. [NetoHe2018] Neto Henriques R (2018). Advanced Methods for Diffusion MRI\n                Data Analysis and their Application to the Healthy Ageing\n                Brain (Doctoral thesis). https://doi.org/10.17863/CAM.29356\n\n.. include:: ../links_names.inc\n\n"
      ]
    }
  ],
  "metadata": {
    "kernelspec": {
      "display_name": "Python 3",
      "language": "python",
      "name": "python3"
    },
    "language_info": {
      "codemirror_mode": {
        "name": "ipython",
        "version": 3
      },
      "file_extension": ".py",
      "mimetype": "text/x-python",
      "name": "python",
      "nbconvert_exporter": "python",
      "pygments_lexer": "ipython3",
      "version": "3.7.4"
    }
  },
  "nbformat": 4,
  "nbformat_minor": 0
}